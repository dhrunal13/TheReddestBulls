{
 "cells": [
  {
   "cell_type": "markdown",
   "id": "627ca5a9-1463-45af-a483-116f3b46b65b",
   "metadata": {},
   "source": [
    "# Merging for data downloaded from FRED"
   ]
  },
  {
   "cell_type": "code",
   "execution_count": 1,
   "id": "8231b3d9-8a26-4b4f-876e-12e020b6a49d",
   "metadata": {},
   "outputs": [
    {
     "data": {
      "text/html": [
       "\n",
       "            <div>\n",
       "                <ins><a href=\"https://ydata.ai/register\">Upgrade to ydata-sdk</a></ins>\n",
       "                <p>\n",
       "                    Improve your data and profiling with ydata-sdk, featuring data quality scoring, redundancy detection, outlier identification, text validation, and synthetic data generation.\n",
       "                </p>\n",
       "            </div>\n",
       "            "
      ],
      "text/plain": [
       "<IPython.core.display.HTML object>"
      ]
     },
     "metadata": {},
     "output_type": "display_data"
    }
   ],
   "source": [
    "import pandas as pd\n",
    "from pandas.tseries.offsets import MonthBegin\n",
    "import os\n",
    "from ydata_profiling import ProfileReport"
   ]
  },
  {
   "cell_type": "code",
   "execution_count": 2,
   "id": "96449db0-00da-42fe-951e-097fd08389f7",
   "metadata": {},
   "outputs": [],
   "source": [
    "#Folder with the data\n",
    "data_folder = \"raw_data/Macroeconomic Factors/\""
   ]
  },
  {
   "cell_type": "code",
   "execution_count": 3,
   "id": "969d0cf6-f031-4fab-a92f-dce8b4129c9c",
   "metadata": {},
   "outputs": [],
   "source": [
    "# Mapping of FRED filenames to human-readable column names\n",
    "rename_dict = {\n",
    "    \"BOPGSTB.csv\": \"Trade Balance\",\n",
    "    \"CPIAUCSL.csv\": \"Inflation (CPI)\",\n",
    "    \"CPILFESL.csv\": \"Core Inflation\",\n",
    "    \"FEDFUNDS.csv\": \"Interest Rate\",\n",
    "    \"INDPRO.csv\": \"Industrial Production\",\n",
    "    \"RSAFS.csv\": \"Retail Sales\",\n",
    "    \"UMCSENT.csv\": \"Consumer Sentiment\",\n",
    "    \"UNRATE.csv\": \"Unemployment Rate\",\n",
    "}\n"
   ]
  },
  {
   "cell_type": "code",
   "execution_count": 4,
   "id": "6d0c74e1-c4b1-43d7-9a60-7678455fb5ac",
   "metadata": {},
   "outputs": [],
   "source": [
    "# Initialize merged_df\n",
    "merged_df = None\n",
    "\n",
    "for filename, pretty_name in rename_dict.items():\n",
    "    filepath = os.path.join(data_folder, filename)\n",
    "    df = pd.read_csv(filepath)\n",
    "    \n",
    "    # Rename columns\n",
    "    df = df.rename(columns={\n",
    "        \"observation_date\": \"DATE\",\n",
    "        df.columns[1]: pretty_name  # the second column has the FRED code\n",
    "    })\n",
    "    \n",
    "    df[\"DATE\"] = pd.to_datetime(df[\"DATE\"])\n",
    "    \n",
    "    if merged_df is None:\n",
    "        merged_df = df\n",
    "    else:\n",
    "        merged_df = pd.merge(merged_df, df, on=\"DATE\", how=\"inner\")"
   ]
  },
  {
   "cell_type": "code",
   "execution_count": 5,
   "id": "718ec20d-42d1-49ed-8667-e8c70477f28f",
   "metadata": {},
   "outputs": [],
   "source": [
    "# Final touches\n",
    "merged_df = merged_df.sort_values(\"DATE\").set_index(\"DATE\")"
   ]
  },
  {
   "cell_type": "code",
   "execution_count": 6,
   "id": "38a042dc-2bea-401e-9627-9a57d7ae4d96",
   "metadata": {},
   "outputs": [
    {
     "data": {
      "text/html": [
       "<div>\n",
       "<style scoped>\n",
       "    .dataframe tbody tr th:only-of-type {\n",
       "        vertical-align: middle;\n",
       "    }\n",
       "\n",
       "    .dataframe tbody tr th {\n",
       "        vertical-align: top;\n",
       "    }\n",
       "\n",
       "    .dataframe thead th {\n",
       "        text-align: right;\n",
       "    }\n",
       "</style>\n",
       "<table border=\"1\" class=\"dataframe\">\n",
       "  <thead>\n",
       "    <tr style=\"text-align: right;\">\n",
       "      <th></th>\n",
       "      <th>Trade Balance</th>\n",
       "      <th>Inflation (CPI)</th>\n",
       "      <th>Core Inflation</th>\n",
       "      <th>Interest Rate</th>\n",
       "      <th>Industrial Production</th>\n",
       "      <th>Retail Sales</th>\n",
       "      <th>Consumer Sentiment</th>\n",
       "      <th>Unemployment Rate</th>\n",
       "    </tr>\n",
       "    <tr>\n",
       "      <th>DATE</th>\n",
       "      <th></th>\n",
       "      <th></th>\n",
       "      <th></th>\n",
       "      <th></th>\n",
       "      <th></th>\n",
       "      <th></th>\n",
       "      <th></th>\n",
       "      <th></th>\n",
       "    </tr>\n",
       "  </thead>\n",
       "  <tbody>\n",
       "    <tr>\n",
       "      <th>2002-01-01</th>\n",
       "      <td>-29678</td>\n",
       "      <td>177.7</td>\n",
       "      <td>188.7</td>\n",
       "      <td>1.73</td>\n",
       "      <td>88.4634</td>\n",
       "      <td>283508</td>\n",
       "      <td>93.0</td>\n",
       "      <td>5.7</td>\n",
       "    </tr>\n",
       "    <tr>\n",
       "      <th>2002-02-01</th>\n",
       "      <td>-32501</td>\n",
       "      <td>178.0</td>\n",
       "      <td>189.1</td>\n",
       "      <td>1.74</td>\n",
       "      <td>88.4578</td>\n",
       "      <td>285054</td>\n",
       "      <td>90.7</td>\n",
       "      <td>5.7</td>\n",
       "    </tr>\n",
       "    <tr>\n",
       "      <th>2002-03-01</th>\n",
       "      <td>-31161</td>\n",
       "      <td>178.5</td>\n",
       "      <td>189.2</td>\n",
       "      <td>1.73</td>\n",
       "      <td>89.1265</td>\n",
       "      <td>284262</td>\n",
       "      <td>95.7</td>\n",
       "      <td>5.7</td>\n",
       "    </tr>\n",
       "    <tr>\n",
       "      <th>2002-04-01</th>\n",
       "      <td>-33965</td>\n",
       "      <td>179.3</td>\n",
       "      <td>189.7</td>\n",
       "      <td>1.75</td>\n",
       "      <td>89.5507</td>\n",
       "      <td>288833</td>\n",
       "      <td>93.0</td>\n",
       "      <td>5.9</td>\n",
       "    </tr>\n",
       "    <tr>\n",
       "      <th>2002-05-01</th>\n",
       "      <td>-34026</td>\n",
       "      <td>179.5</td>\n",
       "      <td>190.0</td>\n",
       "      <td>1.75</td>\n",
       "      <td>89.9348</td>\n",
       "      <td>284951</td>\n",
       "      <td>96.9</td>\n",
       "      <td>5.8</td>\n",
       "    </tr>\n",
       "  </tbody>\n",
       "</table>\n",
       "</div>"
      ],
      "text/plain": [
       "            Trade Balance  Inflation (CPI)  Core Inflation  Interest Rate  \\\n",
       "DATE                                                                        \n",
       "2002-01-01         -29678            177.7           188.7           1.73   \n",
       "2002-02-01         -32501            178.0           189.1           1.74   \n",
       "2002-03-01         -31161            178.5           189.2           1.73   \n",
       "2002-04-01         -33965            179.3           189.7           1.75   \n",
       "2002-05-01         -34026            179.5           190.0           1.75   \n",
       "\n",
       "            Industrial Production  Retail Sales  Consumer Sentiment  \\\n",
       "DATE                                                                  \n",
       "2002-01-01                88.4634        283508                93.0   \n",
       "2002-02-01                88.4578        285054                90.7   \n",
       "2002-03-01                89.1265        284262                95.7   \n",
       "2002-04-01                89.5507        288833                93.0   \n",
       "2002-05-01                89.9348        284951                96.9   \n",
       "\n",
       "            Unemployment Rate  \n",
       "DATE                           \n",
       "2002-01-01                5.7  \n",
       "2002-02-01                5.7  \n",
       "2002-03-01                5.7  \n",
       "2002-04-01                5.9  \n",
       "2002-05-01                5.8  "
      ]
     },
     "execution_count": 6,
     "metadata": {},
     "output_type": "execute_result"
    }
   ],
   "source": [
    "# Preview the result\n",
    "merged_df.head()"
   ]
  },
  {
   "cell_type": "markdown",
   "id": "286ce9ee-3b56-4304-896c-f305af614355",
   "metadata": {},
   "source": [
    "# Merging files with different dates"
   ]
  },
  {
   "cell_type": "code",
   "execution_count": 7,
   "id": "14a4f853-2e2b-4a6f-9871-eb9b9d92896e",
   "metadata": {},
   "outputs": [],
   "source": [
    "new_macro_files = {\n",
    "    \"NAPM.csv\": \"Manufacturing PMI\",\n",
    "    \"SP500Historical.csv\": \"S&P 500 Index\",\n",
    "    \"VIX Index.csv\": \"VIX Index\"\n",
    "}"
   ]
  },
  {
   "cell_type": "code",
   "execution_count": 8,
   "id": "167ef0fe-7be7-4a55-8855-3667e4bb1db8",
   "metadata": {},
   "outputs": [],
   "source": [
    "# Initialize\n",
    "extra_macro_df = None\n",
    "\n",
    "for file, colname in new_macro_files.items():\n",
    "    filepath = os.path.join(data_folder, file)\n",
    "    df = pd.read_csv(filepath)\n",
    "\n",
    "    # Just rename columns and fix date — keep everything else as is\n",
    "    df.columns = df.columns.str.strip()  # In case of space-padding\n",
    "    df = df.rename(columns={\"Date\": \"DATE\", \"PX_LAST\": colname})\n",
    "\n",
    "    # Push date to 1st of next month\n",
    "    df[\"DATE\"] = pd.to_datetime(df[\"DATE\"]) + MonthBegin(1)\n",
    "\n",
    "    if extra_macro_df is None:\n",
    "        extra_macro_df = df\n",
    "    else:\n",
    "        extra_macro_df = pd.merge(extra_macro_df, df, on=\"DATE\", how=\"outer\")"
   ]
  },
  {
   "cell_type": "code",
   "execution_count": 9,
   "id": "00d2dec4-97bc-40ee-a451-0c718add9de6",
   "metadata": {},
   "outputs": [],
   "source": [
    "# Final touches\n",
    "extra_macro_df = extra_macro_df.sort_values(\"DATE\").set_index(\"DATE\")"
   ]
  },
  {
   "cell_type": "code",
   "execution_count": 10,
   "id": "0aa1bab4-f51d-4b67-a1e9-0060684cc6b5",
   "metadata": {},
   "outputs": [
    {
     "data": {
      "text/html": [
       "<div>\n",
       "<style scoped>\n",
       "    .dataframe tbody tr th:only-of-type {\n",
       "        vertical-align: middle;\n",
       "    }\n",
       "\n",
       "    .dataframe tbody tr th {\n",
       "        vertical-align: top;\n",
       "    }\n",
       "\n",
       "    .dataframe thead th {\n",
       "        text-align: right;\n",
       "    }\n",
       "</style>\n",
       "<table border=\"1\" class=\"dataframe\">\n",
       "  <thead>\n",
       "    <tr style=\"text-align: right;\">\n",
       "      <th></th>\n",
       "      <th>Manufacturing PMI</th>\n",
       "      <th>S&amp;P 500 Index</th>\n",
       "      <th>VIX Index</th>\n",
       "    </tr>\n",
       "    <tr>\n",
       "      <th>DATE</th>\n",
       "      <th></th>\n",
       "      <th></th>\n",
       "      <th></th>\n",
       "    </tr>\n",
       "  </thead>\n",
       "  <tbody>\n",
       "    <tr>\n",
       "      <th>2002-02-01</th>\n",
       "      <td>47.5</td>\n",
       "      <td>1130.21</td>\n",
       "      <td>21.09</td>\n",
       "    </tr>\n",
       "    <tr>\n",
       "      <th>2002-03-01</th>\n",
       "      <td>50.7</td>\n",
       "      <td>1106.73</td>\n",
       "      <td>21.59</td>\n",
       "    </tr>\n",
       "    <tr>\n",
       "      <th>2002-04-01</th>\n",
       "      <td>52.4</td>\n",
       "      <td>1147.39</td>\n",
       "      <td>17.40</td>\n",
       "    </tr>\n",
       "    <tr>\n",
       "      <th>2002-05-01</th>\n",
       "      <td>52.4</td>\n",
       "      <td>1076.92</td>\n",
       "      <td>21.91</td>\n",
       "    </tr>\n",
       "    <tr>\n",
       "      <th>2002-06-01</th>\n",
       "      <td>53.1</td>\n",
       "      <td>1067.14</td>\n",
       "      <td>19.98</td>\n",
       "    </tr>\n",
       "  </tbody>\n",
       "</table>\n",
       "</div>"
      ],
      "text/plain": [
       "            Manufacturing PMI  S&P 500 Index  VIX Index\n",
       "DATE                                                   \n",
       "2002-02-01               47.5        1130.21      21.09\n",
       "2002-03-01               50.7        1106.73      21.59\n",
       "2002-04-01               52.4        1147.39      17.40\n",
       "2002-05-01               52.4        1076.92      21.91\n",
       "2002-06-01               53.1        1067.14      19.98"
      ]
     },
     "execution_count": 10,
     "metadata": {},
     "output_type": "execute_result"
    }
   ],
   "source": [
    "extra_macro_df.head()"
   ]
  },
  {
   "cell_type": "markdown",
   "id": "827fa583-039a-4b60-88fa-36a55720f0ad",
   "metadata": {},
   "source": [
    "# Merging both the dfs"
   ]
  },
  {
   "cell_type": "code",
   "execution_count": 11,
   "id": "1fbcbedf-5680-497a-9fba-3175dae4f082",
   "metadata": {},
   "outputs": [],
   "source": [
    "# Merge on the date index\n",
    "macro_df = pd.merge(merged_df, extra_macro_df, left_index=True, right_index=True, how=\"outer\")\n",
    "\n",
    "# Sort by date and save\n",
    "macro_df = macro_df.sort_index()\n",
    "macro_df.to_csv(\"macro_data.csv\")\n"
   ]
  },
  {
   "cell_type": "code",
   "execution_count": 12,
   "id": "d8398669-bf2b-42fa-adc0-1f8e7001f0f3",
   "metadata": {},
   "outputs": [
    {
     "data": {
      "text/html": [
       "<div>\n",
       "<style scoped>\n",
       "    .dataframe tbody tr th:only-of-type {\n",
       "        vertical-align: middle;\n",
       "    }\n",
       "\n",
       "    .dataframe tbody tr th {\n",
       "        vertical-align: top;\n",
       "    }\n",
       "\n",
       "    .dataframe thead th {\n",
       "        text-align: right;\n",
       "    }\n",
       "</style>\n",
       "<table border=\"1\" class=\"dataframe\">\n",
       "  <thead>\n",
       "    <tr style=\"text-align: right;\">\n",
       "      <th></th>\n",
       "      <th>Trade Balance</th>\n",
       "      <th>Inflation (CPI)</th>\n",
       "      <th>Core Inflation</th>\n",
       "      <th>Interest Rate</th>\n",
       "      <th>Industrial Production</th>\n",
       "      <th>Retail Sales</th>\n",
       "      <th>Consumer Sentiment</th>\n",
       "      <th>Unemployment Rate</th>\n",
       "      <th>Manufacturing PMI</th>\n",
       "      <th>S&amp;P 500 Index</th>\n",
       "      <th>VIX Index</th>\n",
       "    </tr>\n",
       "    <tr>\n",
       "      <th>DATE</th>\n",
       "      <th></th>\n",
       "      <th></th>\n",
       "      <th></th>\n",
       "      <th></th>\n",
       "      <th></th>\n",
       "      <th></th>\n",
       "      <th></th>\n",
       "      <th></th>\n",
       "      <th></th>\n",
       "      <th></th>\n",
       "      <th></th>\n",
       "    </tr>\n",
       "  </thead>\n",
       "  <tbody>\n",
       "    <tr>\n",
       "      <th>2002-01-01</th>\n",
       "      <td>-29678.0</td>\n",
       "      <td>177.7</td>\n",
       "      <td>188.7</td>\n",
       "      <td>1.73</td>\n",
       "      <td>88.4634</td>\n",
       "      <td>283508.0</td>\n",
       "      <td>93.0</td>\n",
       "      <td>5.7</td>\n",
       "      <td>NaN</td>\n",
       "      <td>NaN</td>\n",
       "      <td>NaN</td>\n",
       "    </tr>\n",
       "    <tr>\n",
       "      <th>2002-02-01</th>\n",
       "      <td>-32501.0</td>\n",
       "      <td>178.0</td>\n",
       "      <td>189.1</td>\n",
       "      <td>1.74</td>\n",
       "      <td>88.4578</td>\n",
       "      <td>285054.0</td>\n",
       "      <td>90.7</td>\n",
       "      <td>5.7</td>\n",
       "      <td>47.5</td>\n",
       "      <td>1130.21</td>\n",
       "      <td>21.09</td>\n",
       "    </tr>\n",
       "    <tr>\n",
       "      <th>2002-03-01</th>\n",
       "      <td>-31161.0</td>\n",
       "      <td>178.5</td>\n",
       "      <td>189.2</td>\n",
       "      <td>1.73</td>\n",
       "      <td>89.1265</td>\n",
       "      <td>284262.0</td>\n",
       "      <td>95.7</td>\n",
       "      <td>5.7</td>\n",
       "      <td>50.7</td>\n",
       "      <td>1106.73</td>\n",
       "      <td>21.59</td>\n",
       "    </tr>\n",
       "    <tr>\n",
       "      <th>2002-04-01</th>\n",
       "      <td>-33965.0</td>\n",
       "      <td>179.3</td>\n",
       "      <td>189.7</td>\n",
       "      <td>1.75</td>\n",
       "      <td>89.5507</td>\n",
       "      <td>288833.0</td>\n",
       "      <td>93.0</td>\n",
       "      <td>5.9</td>\n",
       "      <td>52.4</td>\n",
       "      <td>1147.39</td>\n",
       "      <td>17.40</td>\n",
       "    </tr>\n",
       "    <tr>\n",
       "      <th>2002-05-01</th>\n",
       "      <td>-34026.0</td>\n",
       "      <td>179.5</td>\n",
       "      <td>190.0</td>\n",
       "      <td>1.75</td>\n",
       "      <td>89.9348</td>\n",
       "      <td>284951.0</td>\n",
       "      <td>96.9</td>\n",
       "      <td>5.8</td>\n",
       "      <td>52.4</td>\n",
       "      <td>1076.92</td>\n",
       "      <td>21.91</td>\n",
       "    </tr>\n",
       "  </tbody>\n",
       "</table>\n",
       "</div>"
      ],
      "text/plain": [
       "            Trade Balance  Inflation (CPI)  Core Inflation  Interest Rate  \\\n",
       "DATE                                                                        \n",
       "2002-01-01       -29678.0            177.7           188.7           1.73   \n",
       "2002-02-01       -32501.0            178.0           189.1           1.74   \n",
       "2002-03-01       -31161.0            178.5           189.2           1.73   \n",
       "2002-04-01       -33965.0            179.3           189.7           1.75   \n",
       "2002-05-01       -34026.0            179.5           190.0           1.75   \n",
       "\n",
       "            Industrial Production  Retail Sales  Consumer Sentiment  \\\n",
       "DATE                                                                  \n",
       "2002-01-01                88.4634      283508.0                93.0   \n",
       "2002-02-01                88.4578      285054.0                90.7   \n",
       "2002-03-01                89.1265      284262.0                95.7   \n",
       "2002-04-01                89.5507      288833.0                93.0   \n",
       "2002-05-01                89.9348      284951.0                96.9   \n",
       "\n",
       "            Unemployment Rate  Manufacturing PMI  S&P 500 Index  VIX Index  \n",
       "DATE                                                                        \n",
       "2002-01-01                5.7                NaN            NaN        NaN  \n",
       "2002-02-01                5.7               47.5        1130.21      21.09  \n",
       "2002-03-01                5.7               50.7        1106.73      21.59  \n",
       "2002-04-01                5.9               52.4        1147.39      17.40  \n",
       "2002-05-01                5.8               52.4        1076.92      21.91  "
      ]
     },
     "execution_count": 12,
     "metadata": {},
     "output_type": "execute_result"
    }
   ],
   "source": [
    "macro_df.head()"
   ]
  },
  {
   "cell_type": "markdown",
   "id": "98cac97a-f075-468d-b520-8cf09ad77e5b",
   "metadata": {},
   "source": [
    "### No need to run the cell below, you should be able to see the html report uploaded in the repo"
   ]
  },
  {
   "cell_type": "code",
   "execution_count": 13,
   "id": "5af32469-3626-419a-acb9-e5acfb948e72",
   "metadata": {},
   "outputs": [
    {
     "data": {
      "application/vnd.jupyter.widget-view+json": {
       "model_id": "5fa3eab2b4b248c2b57dd42e68b23a57",
       "version_major": 2,
       "version_minor": 0
      },
      "text/plain": [
       "HBox(children=(FloatProgress(value=0.0, description='Summarize dataset', max=5.0, style=ProgressStyle(descript…"
      ]
     },
     "metadata": {},
     "output_type": "display_data"
    },
    {
     "name": "stderr",
     "output_type": "stream",
     "text": [
      "100%|████████████████████████████████████████████████████████████████████████████| 11/11 [00:00<00:00, 2198.38it/s]\n"
     ]
    },
    {
     "name": "stdout",
     "output_type": "stream",
     "text": [
      "\n"
     ]
    },
    {
     "data": {
      "application/vnd.jupyter.widget-view+json": {
       "model_id": "b5959fe5552348edb5006474447be8ee",
       "version_major": 2,
       "version_minor": 0
      },
      "text/plain": [
       "HBox(children=(FloatProgress(value=0.0, description='Generate report structure', max=1.0, style=ProgressStyle(…"
      ]
     },
     "metadata": {},
     "output_type": "display_data"
    },
    {
     "name": "stdout",
     "output_type": "stream",
     "text": [
      "\n"
     ]
    },
    {
     "data": {
      "application/vnd.jupyter.widget-view+json": {
       "model_id": "aacd3c4df07c4d2fb23c8d2d390c2d8e",
       "version_major": 2,
       "version_minor": 0
      },
      "text/plain": [
       "HBox(children=(FloatProgress(value=0.0, description='Render HTML', max=1.0, style=ProgressStyle(description_wi…"
      ]
     },
     "metadata": {},
     "output_type": "display_data"
    },
    {
     "name": "stdout",
     "output_type": "stream",
     "text": [
      "\n"
     ]
    },
    {
     "data": {
      "application/vnd.jupyter.widget-view+json": {
       "model_id": "7d993372bada46078d9a60b74500af59",
       "version_major": 2,
       "version_minor": 0
      },
      "text/plain": [
       "HBox(children=(FloatProgress(value=0.0, description='Export report to file', max=1.0, style=ProgressStyle(desc…"
      ]
     },
     "metadata": {},
     "output_type": "display_data"
    },
    {
     "name": "stdout",
     "output_type": "stream",
     "text": [
      "\n"
     ]
    }
   ],
   "source": [
    "# Load final macroeconomic dataset\n",
    "# df = pd.read_csv(\"macro_data.csv\", parse_dates=[\"DATE\"])\n",
    "# df = df.set_index(\"DATE\")  \n",
    "\n",
    "# Generate profiling report\n",
    "# profile = ProfileReport(df, \n",
    "#                         title=\"Macroeconomic EDA Report\",\n",
    "#                         html={\"style\": {\"full_width\": True}}, \n",
    "#                         minimal=False)\n",
    "\n",
    "# Save as HTML\n",
    "# profile.to_file(\"macro_eda_report.html\")\n"
   ]
  }
 ],
 "metadata": {
  "kernelspec": {
   "display_name": "Python 3 (ipykernel)",
   "language": "python",
   "name": "python3"
  },
  "language_info": {
   "codemirror_mode": {
    "name": "ipython",
    "version": 3
   },
   "file_extension": ".py",
   "mimetype": "text/x-python",
   "name": "python",
   "nbconvert_exporter": "python",
   "pygments_lexer": "ipython3",
   "version": "3.11.7"
  }
 },
 "nbformat": 4,
 "nbformat_minor": 5
}
