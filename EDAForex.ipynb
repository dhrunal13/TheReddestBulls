{
 "cells": [
  {
   "cell_type": "code",
   "execution_count": 1,
   "id": "6d83c6bf-e91c-4c48-bc70-26a453ba2648",
   "metadata": {},
   "outputs": [
    {
     "data": {
      "text/html": [
       "\n",
       "            <div>\n",
       "                <ins><a href=\"https://ydata.ai/register\">Upgrade to ydata-sdk</a></ins>\n",
       "                <p>\n",
       "                    Improve your data and profiling with ydata-sdk, featuring data quality scoring, redundancy detection, outlier identification, text validation, and synthetic data generation.\n",
       "                </p>\n",
       "            </div>\n",
       "            "
      ],
      "text/plain": [
       "<IPython.core.display.HTML object>"
      ]
     },
     "metadata": {},
     "output_type": "display_data"
    }
   ],
   "source": [
    "import pandas as pd\n",
    "import os\n",
    "from ydata_profiling import ProfileReport\n",
    "from pandas.tseries.offsets import MonthBegin"
   ]
  },
  {
   "cell_type": "markdown",
   "id": "3e61b3ad-b2c7-4376-814b-aee179a642d6",
   "metadata": {},
   "source": [
    "# Converting excel files to csv"
   ]
  },
  {
   "cell_type": "code",
   "execution_count": 2,
   "id": "b17c9e11-c810-4635-ba51-e8fc05f7d0ef",
   "metadata": {},
   "outputs": [],
   "source": [
    "# Folder with all your forex .xlsx files\n",
    "forex_folder = \"raw_data/Forex Rates/\""
   ]
  },
  {
   "cell_type": "code",
   "execution_count": 3,
   "id": "57015261-2092-4299-b8e9-01adfeedf305",
   "metadata": {},
   "outputs": [],
   "source": [
    "# Map filenames to clean column names\n",
    "forex_files = {\n",
    "    \"USD-AUD.xlsx\": \"USD/AUD\",\n",
    "    \"USD-CAD.xlsx\": \"USD/CAD\",\n",
    "    \"USD-CHF.xlsx\": \"USD/CHF\",\n",
    "    \"USD-CNY.xlsx\": \"USD/CNY\",\n",
    "    \"USD-EUR.xlsx\": \"USD/EUR\",\n",
    "    \"USD-GBP.xlsx\": \"USD/GBP\",\n",
    "    \"USD-HKD.xlsx\": \"USD/HKD\",\n",
    "    \"USD-JPY.xlsx\": \"USD/JPY\",\n",
    "    \"USD-NZD.xlsx\": \"USD/NZD\",\n",
    "    \"USD-XAU.xlsx\": \"USD/XAU\"  # gold\n",
    "}"
   ]
  },
  {
   "cell_type": "code",
   "execution_count": 4,
   "id": "b03e5e3c-db8a-4b0f-9ebe-9f51def4a24d",
   "metadata": {},
   "outputs": [],
   "source": [
    "merged_forex_df = None"
   ]
  },
  {
   "cell_type": "code",
   "execution_count": 5,
   "id": "30308096-217c-46d4-83ad-673355150f7a",
   "metadata": {},
   "outputs": [],
   "source": [
    "import pandas as pd\n",
    "import os\n",
    "\n",
    "input_folder = \"raw_data/Forex Rates/\"\n",
    "output_folder = \"raw_data/Forex_csv_clean/\"\n",
    "\n",
    "os.makedirs(output_folder, exist_ok=True)\n",
    "\n",
    "for filename in os.listdir(input_folder):\n",
    "    if filename.endswith(\".xlsx\"):\n",
    "        df = pd.read_excel(os.path.join(input_folder, filename))\n",
    "        output_file = filename.replace(\".xlsx\", \".csv\")\n",
    "        df.to_csv(os.path.join(output_folder, output_file), index=False, encoding=\"utf-8\")\n"
   ]
  },
  {
   "cell_type": "markdown",
   "id": "de949e6f-0245-42e3-9375-1085d8511444",
   "metadata": {},
   "source": [
    "# Merging the csv forex files"
   ]
  },
  {
   "cell_type": "code",
   "execution_count": 6,
   "id": "1dec3dbc-c3aa-4cf1-86fb-7583e8cb7e60",
   "metadata": {},
   "outputs": [],
   "source": [
    "import os\n",
    "import pandas as pd\n",
    "from pandas.tseries.offsets import MonthBegin\n",
    "\n",
    "# Setup\n",
    "data_folder = \"raw_data/Forex_csv_clean/\"\n",
    "forex_files = {\n",
    "    \"USD-AUD.csv\": \"USD-AUD\",\n",
    "    \"USD-CAD.csv\": \"USD-CAD\",\n",
    "    \"USD-CHF.csv\": \"USD-CHF\",\n",
    "    \"USD-CNY.csv\": \"USD-CNY\",\n",
    "    \"USD-EUR.csv\": \"USD-EUR\",\n",
    "    \"USD-GBP.csv\": \"USD-GBP\",\n",
    "    \"USD-HKD.csv\": \"USD-HKD\",\n",
    "    \"USD-JPY.csv\": \"USD-JPY\",\n",
    "    \"USD-NZD.csv\": \"USD-NZD\",\n",
    "    \"USD-XAU.csv\": \"USD-XAU\"\n",
    "}\n",
    "\n",
    "forex_df = None\n",
    "\n",
    "for file, colname in forex_files.items():\n",
    "    filepath = os.path.join(data_folder, file)\n",
    "    \n",
    "    # Skip first row, second row is the header\n",
    "    df = pd.read_csv(filepath, header=1)\n",
    "\n",
    "    # Clean column names\n",
    "    df.columns = df.columns.str.strip().str.lower()\n",
    "\n",
    "    # Drop unnamed or empty column if present\n",
    "    if '' in df.columns or 'unnamed: 0' in df.columns:\n",
    "        df = df.drop(columns=[''] if '' in df.columns else ['unnamed: 0'])\n",
    "\n",
    "    # Rename known columns\n",
    "    df = df.rename(columns={\"date\": \"DATE\", \"last price\": colname})\n",
    "\n",
    "    # Convert to datetime and shift to 1st of next month\n",
    "    df[\"DATE\"] = pd.to_datetime(df[\"DATE\"]) + MonthBegin(1)\n",
    "\n",
    "    # Merge into master DataFrame\n",
    "    if forex_df is None:\n",
    "        forex_df = df\n",
    "    else:\n",
    "        forex_df = pd.merge(forex_df, df, on=\"DATE\", how=\"outer\")\n",
    "\n",
    "# Final steps\n",
    "forex_df = forex_df.sort_values(\"DATE\").reset_index(drop=True)\n",
    "forex_df.to_csv(\"forex_merged_cleaned.csv\", index=False)"
   ]
  },
  {
   "cell_type": "markdown",
   "id": "2e1eb194-7ea4-40b8-90c6-10a648100a61",
   "metadata": {},
   "source": [
    "### No need to run the cell below, you should be able to see the html report uploaded in the repo"
   ]
  },
  {
   "cell_type": "code",
   "execution_count": 7,
   "id": "fed8aacd-4662-4281-b105-ba146e34b5f5",
   "metadata": {},
   "outputs": [
    {
     "data": {
      "application/vnd.jupyter.widget-view+json": {
       "model_id": "0f483928dc0541e2b32955f4d8593162",
       "version_major": 2,
       "version_minor": 0
      },
      "text/plain": [
       "HBox(children=(FloatProgress(value=0.0, description='Summarize dataset', max=5.0, style=ProgressStyle(descript…"
      ]
     },
     "metadata": {},
     "output_type": "display_data"
    },
    {
     "name": "stderr",
     "output_type": "stream",
     "text": [
      "100%|████████████████████████████████████████████████████████████████████████████████| 10/10 [00:00<00:00, 1249.79it/s]\n"
     ]
    },
    {
     "name": "stdout",
     "output_type": "stream",
     "text": [
      "\n"
     ]
    },
    {
     "data": {
      "application/vnd.jupyter.widget-view+json": {
       "model_id": "52f3743ccb8b4d489a23ffba058eaffa",
       "version_major": 2,
       "version_minor": 0
      },
      "text/plain": [
       "HBox(children=(FloatProgress(value=0.0, description='Generate report structure', max=1.0, style=ProgressStyle(…"
      ]
     },
     "metadata": {},
     "output_type": "display_data"
    },
    {
     "name": "stdout",
     "output_type": "stream",
     "text": [
      "\n"
     ]
    },
    {
     "data": {
      "application/vnd.jupyter.widget-view+json": {
       "model_id": "a487127a6b594ae4b1403ae41946ff35",
       "version_major": 2,
       "version_minor": 0
      },
      "text/plain": [
       "HBox(children=(FloatProgress(value=0.0, description='Render HTML', max=1.0, style=ProgressStyle(description_wi…"
      ]
     },
     "metadata": {},
     "output_type": "display_data"
    },
    {
     "name": "stdout",
     "output_type": "stream",
     "text": [
      "\n"
     ]
    },
    {
     "data": {
      "application/vnd.jupyter.widget-view+json": {
       "model_id": "e39bae5c5d4d4f218839e409dc5ca39a",
       "version_major": 2,
       "version_minor": 0
      },
      "text/plain": [
       "HBox(children=(FloatProgress(value=0.0, description='Export report to file', max=1.0, style=ProgressStyle(desc…"
      ]
     },
     "metadata": {},
     "output_type": "display_data"
    },
    {
     "name": "stdout",
     "output_type": "stream",
     "text": [
      "\n"
     ]
    }
   ],
   "source": [
    "# Load final forex dataset\n",
    "df = pd.read_csv(\"forex_merged_cleaned.csv\", parse_dates=[\"DATE\"])\n",
    "df = df.set_index(\"DATE\")  \n",
    "\n",
    "# Generate profiling report\n",
    "profile = ProfileReport(df, \n",
    "                        title=\"Forex EDA Report\",\n",
    "                        html={\"style\": {\"full_width\": True}}, \n",
    "                        minimal=False)\n",
    "\n",
    "# Save as HTML\n",
    "profile.to_file(\"forex_eda_report.html\")\n"
   ]
  }
 ],
 "metadata": {
  "kernelspec": {
   "display_name": "Python 3 (ipykernel)",
   "language": "python",
   "name": "python3"
  },
  "language_info": {
   "codemirror_mode": {
    "name": "ipython",
    "version": 3
   },
   "file_extension": ".py",
   "mimetype": "text/x-python",
   "name": "python",
   "nbconvert_exporter": "python",
   "pygments_lexer": "ipython3",
   "version": "3.11.7"
  }
 },
 "nbformat": 4,
 "nbformat_minor": 5
}
